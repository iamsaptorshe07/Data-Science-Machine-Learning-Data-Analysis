{
  "nbformat": 4,
  "nbformat_minor": 0,
  "metadata": {
    "colab": {
      "name": "Feature Scaling Normalization vs Standardization.ipynb",
      "provenance": [],
      "toc_visible": true,
      "authorship_tag": "ABX9TyOJdtTQX4Unt+MDSF5nDbba",
      "include_colab_link": true
    },
    "kernelspec": {
      "name": "python3",
      "display_name": "Python 3"
    }
  },
  "cells": [
    {
      "cell_type": "markdown",
      "metadata": {
        "id": "view-in-github",
        "colab_type": "text"
      },
      "source": [
        "<a href=\"https://colab.research.google.com/github/iamsaptorshe07/Data-Science-Machine-Learning-Data-Analysis/blob/master/Feature_Scaling_Normalization_vs_Standardization.ipynb\" target=\"_parent\"><img src=\"https://colab.research.google.com/assets/colab-badge.svg\" alt=\"Open In Colab\"/></a>"
      ]
    },
    {
      "cell_type": "code",
      "metadata": {
        "id": "7C0c6pPEVRbf",
        "colab_type": "code",
        "colab": {}
      },
      "source": [
        "import numpy as np\n",
        "import pandas as pd\n",
        "import matplotlib.pyplot as plt"
      ],
      "execution_count": 0,
      "outputs": []
    },
    {
      "cell_type": "code",
      "metadata": {
        "id": "07drbCK4Vie-",
        "colab_type": "code",
        "colab": {
          "base_uri": "https://localhost:8080/",
          "height": 204
        },
        "outputId": "735f77c1-0022-4437-858c-b41830e680e8"
      },
      "source": [
        "file = 'Wine.csv'\n",
        "df = pd.read_csv(file)\n",
        "df.head(5)"
      ],
      "execution_count": 17,
      "outputs": [
        {
          "output_type": "execute_result",
          "data": {
            "text/html": [
              "<div>\n",
              "<style scoped>\n",
              "    .dataframe tbody tr th:only-of-type {\n",
              "        vertical-align: middle;\n",
              "    }\n",
              "\n",
              "    .dataframe tbody tr th {\n",
              "        vertical-align: top;\n",
              "    }\n",
              "\n",
              "    .dataframe thead th {\n",
              "        text-align: right;\n",
              "    }\n",
              "</style>\n",
              "<table border=\"1\" class=\"dataframe\">\n",
              "  <thead>\n",
              "    <tr style=\"text-align: right;\">\n",
              "      <th></th>\n",
              "      <th>1</th>\n",
              "      <th>14.23</th>\n",
              "      <th>1.71</th>\n",
              "      <th>2.43</th>\n",
              "      <th>15.6</th>\n",
              "      <th>127</th>\n",
              "      <th>2.8</th>\n",
              "      <th>3.06</th>\n",
              "      <th>.28</th>\n",
              "      <th>2.29</th>\n",
              "      <th>5.64</th>\n",
              "      <th>1.04</th>\n",
              "      <th>3.92</th>\n",
              "      <th>1065</th>\n",
              "    </tr>\n",
              "  </thead>\n",
              "  <tbody>\n",
              "    <tr>\n",
              "      <th>0</th>\n",
              "      <td>1</td>\n",
              "      <td>13.20</td>\n",
              "      <td>1.78</td>\n",
              "      <td>2.14</td>\n",
              "      <td>11.2</td>\n",
              "      <td>100</td>\n",
              "      <td>2.65</td>\n",
              "      <td>2.76</td>\n",
              "      <td>0.26</td>\n",
              "      <td>1.28</td>\n",
              "      <td>4.38</td>\n",
              "      <td>1.05</td>\n",
              "      <td>3.40</td>\n",
              "      <td>1050</td>\n",
              "    </tr>\n",
              "    <tr>\n",
              "      <th>1</th>\n",
              "      <td>1</td>\n",
              "      <td>13.16</td>\n",
              "      <td>2.36</td>\n",
              "      <td>2.67</td>\n",
              "      <td>18.6</td>\n",
              "      <td>101</td>\n",
              "      <td>2.80</td>\n",
              "      <td>3.24</td>\n",
              "      <td>0.30</td>\n",
              "      <td>2.81</td>\n",
              "      <td>5.68</td>\n",
              "      <td>1.03</td>\n",
              "      <td>3.17</td>\n",
              "      <td>1185</td>\n",
              "    </tr>\n",
              "    <tr>\n",
              "      <th>2</th>\n",
              "      <td>1</td>\n",
              "      <td>14.37</td>\n",
              "      <td>1.95</td>\n",
              "      <td>2.50</td>\n",
              "      <td>16.8</td>\n",
              "      <td>113</td>\n",
              "      <td>3.85</td>\n",
              "      <td>3.49</td>\n",
              "      <td>0.24</td>\n",
              "      <td>2.18</td>\n",
              "      <td>7.80</td>\n",
              "      <td>0.86</td>\n",
              "      <td>3.45</td>\n",
              "      <td>1480</td>\n",
              "    </tr>\n",
              "    <tr>\n",
              "      <th>3</th>\n",
              "      <td>1</td>\n",
              "      <td>13.24</td>\n",
              "      <td>2.59</td>\n",
              "      <td>2.87</td>\n",
              "      <td>21.0</td>\n",
              "      <td>118</td>\n",
              "      <td>2.80</td>\n",
              "      <td>2.69</td>\n",
              "      <td>0.39</td>\n",
              "      <td>1.82</td>\n",
              "      <td>4.32</td>\n",
              "      <td>1.04</td>\n",
              "      <td>2.93</td>\n",
              "      <td>735</td>\n",
              "    </tr>\n",
              "    <tr>\n",
              "      <th>4</th>\n",
              "      <td>1</td>\n",
              "      <td>14.20</td>\n",
              "      <td>1.76</td>\n",
              "      <td>2.45</td>\n",
              "      <td>15.2</td>\n",
              "      <td>112</td>\n",
              "      <td>3.27</td>\n",
              "      <td>3.39</td>\n",
              "      <td>0.34</td>\n",
              "      <td>1.97</td>\n",
              "      <td>6.75</td>\n",
              "      <td>1.05</td>\n",
              "      <td>2.85</td>\n",
              "      <td>1450</td>\n",
              "    </tr>\n",
              "  </tbody>\n",
              "</table>\n",
              "</div>"
            ],
            "text/plain": [
              "   1  14.23  1.71  2.43  15.6  127  ...   .28  2.29  5.64  1.04  3.92  1065\n",
              "0  1  13.20  1.78  2.14  11.2  100  ...  0.26  1.28  4.38  1.05  3.40  1050\n",
              "1  1  13.16  2.36  2.67  18.6  101  ...  0.30  2.81  5.68  1.03  3.17  1185\n",
              "2  1  14.37  1.95  2.50  16.8  113  ...  0.24  2.18  7.80  0.86  3.45  1480\n",
              "3  1  13.24  2.59  2.87  21.0  118  ...  0.39  1.82  4.32  1.04  2.93   735\n",
              "4  1  14.20  1.76  2.45  15.2  112  ...  0.34  1.97  6.75  1.05  2.85  1450\n",
              "\n",
              "[5 rows x 14 columns]"
            ]
          },
          "metadata": {
            "tags": []
          },
          "execution_count": 17
        }
      ]
    },
    {
      "cell_type": "code",
      "metadata": {
        "id": "E6O3wcCmVtEE",
        "colab_type": "code",
        "colab": {}
      },
      "source": [
        "new_df = df.iloc[:,0:3]"
      ],
      "execution_count": 0,
      "outputs": []
    },
    {
      "cell_type": "code",
      "metadata": {
        "id": "bQZMQ6jkVvTM",
        "colab_type": "code",
        "colab": {
          "base_uri": "https://localhost:8080/",
          "height": 204
        },
        "outputId": "3d4e484a-6f2a-4508-d37f-7ec22b7573c2"
      },
      "source": [
        "new_df.head()"
      ],
      "execution_count": 19,
      "outputs": [
        {
          "output_type": "execute_result",
          "data": {
            "text/html": [
              "<div>\n",
              "<style scoped>\n",
              "    .dataframe tbody tr th:only-of-type {\n",
              "        vertical-align: middle;\n",
              "    }\n",
              "\n",
              "    .dataframe tbody tr th {\n",
              "        vertical-align: top;\n",
              "    }\n",
              "\n",
              "    .dataframe thead th {\n",
              "        text-align: right;\n",
              "    }\n",
              "</style>\n",
              "<table border=\"1\" class=\"dataframe\">\n",
              "  <thead>\n",
              "    <tr style=\"text-align: right;\">\n",
              "      <th></th>\n",
              "      <th>1</th>\n",
              "      <th>14.23</th>\n",
              "      <th>1.71</th>\n",
              "    </tr>\n",
              "  </thead>\n",
              "  <tbody>\n",
              "    <tr>\n",
              "      <th>0</th>\n",
              "      <td>1</td>\n",
              "      <td>13.20</td>\n",
              "      <td>1.78</td>\n",
              "    </tr>\n",
              "    <tr>\n",
              "      <th>1</th>\n",
              "      <td>1</td>\n",
              "      <td>13.16</td>\n",
              "      <td>2.36</td>\n",
              "    </tr>\n",
              "    <tr>\n",
              "      <th>2</th>\n",
              "      <td>1</td>\n",
              "      <td>14.37</td>\n",
              "      <td>1.95</td>\n",
              "    </tr>\n",
              "    <tr>\n",
              "      <th>3</th>\n",
              "      <td>1</td>\n",
              "      <td>13.24</td>\n",
              "      <td>2.59</td>\n",
              "    </tr>\n",
              "    <tr>\n",
              "      <th>4</th>\n",
              "      <td>1</td>\n",
              "      <td>14.20</td>\n",
              "      <td>1.76</td>\n",
              "    </tr>\n",
              "  </tbody>\n",
              "</table>\n",
              "</div>"
            ],
            "text/plain": [
              "   1  14.23  1.71\n",
              "0  1  13.20  1.78\n",
              "1  1  13.16  2.36\n",
              "2  1  14.37  1.95\n",
              "3  1  13.24  2.59\n",
              "4  1  14.20  1.76"
            ]
          },
          "metadata": {
            "tags": []
          },
          "execution_count": 19
        }
      ]
    },
    {
      "cell_type": "code",
      "metadata": {
        "id": "vHkhqsDZVySM",
        "colab_type": "code",
        "colab": {}
      },
      "source": [
        "new_df.columns=['Class','Alcohol','Malic']"
      ],
      "execution_count": 0,
      "outputs": []
    },
    {
      "cell_type": "code",
      "metadata": {
        "id": "6n8MxTqlV6jR",
        "colab_type": "code",
        "colab": {
          "base_uri": "https://localhost:8080/",
          "height": 204
        },
        "outputId": "b24e43d1-d619-4d5c-ec97-72854e8037e4"
      },
      "source": [
        "new_df.head()"
      ],
      "execution_count": 21,
      "outputs": [
        {
          "output_type": "execute_result",
          "data": {
            "text/html": [
              "<div>\n",
              "<style scoped>\n",
              "    .dataframe tbody tr th:only-of-type {\n",
              "        vertical-align: middle;\n",
              "    }\n",
              "\n",
              "    .dataframe tbody tr th {\n",
              "        vertical-align: top;\n",
              "    }\n",
              "\n",
              "    .dataframe thead th {\n",
              "        text-align: right;\n",
              "    }\n",
              "</style>\n",
              "<table border=\"1\" class=\"dataframe\">\n",
              "  <thead>\n",
              "    <tr style=\"text-align: right;\">\n",
              "      <th></th>\n",
              "      <th>Class</th>\n",
              "      <th>Alcohol</th>\n",
              "      <th>Malic</th>\n",
              "    </tr>\n",
              "  </thead>\n",
              "  <tbody>\n",
              "    <tr>\n",
              "      <th>0</th>\n",
              "      <td>1</td>\n",
              "      <td>13.20</td>\n",
              "      <td>1.78</td>\n",
              "    </tr>\n",
              "    <tr>\n",
              "      <th>1</th>\n",
              "      <td>1</td>\n",
              "      <td>13.16</td>\n",
              "      <td>2.36</td>\n",
              "    </tr>\n",
              "    <tr>\n",
              "      <th>2</th>\n",
              "      <td>1</td>\n",
              "      <td>14.37</td>\n",
              "      <td>1.95</td>\n",
              "    </tr>\n",
              "    <tr>\n",
              "      <th>3</th>\n",
              "      <td>1</td>\n",
              "      <td>13.24</td>\n",
              "      <td>2.59</td>\n",
              "    </tr>\n",
              "    <tr>\n",
              "      <th>4</th>\n",
              "      <td>1</td>\n",
              "      <td>14.20</td>\n",
              "      <td>1.76</td>\n",
              "    </tr>\n",
              "  </tbody>\n",
              "</table>\n",
              "</div>"
            ],
            "text/plain": [
              "   Class  Alcohol  Malic\n",
              "0      1    13.20   1.78\n",
              "1      1    13.16   2.36\n",
              "2      1    14.37   1.95\n",
              "3      1    13.24   2.59\n",
              "4      1    14.20   1.76"
            ]
          },
          "metadata": {
            "tags": []
          },
          "execution_count": 21
        }
      ]
    },
    {
      "cell_type": "markdown",
      "metadata": {
        "id": "IMSYVmmhZDFC",
        "colab_type": "text"
      },
      "source": [
        "**MIN MAX SCALER - NORMALIZATION**\n",
        "\n",
        "---\n",
        "\n"
      ]
    },
    {
      "cell_type": "code",
      "metadata": {
        "id": "Tsiv5gulV90q",
        "colab_type": "code",
        "colab": {}
      },
      "source": [
        "# performing min max scaler or normalization operation\n",
        "'''\n",
        "MinMaxScaler (feature_range=(0, 1), copy=True)[source] Transform features by scaling each feature to a given range. \n",
        "This estimator scales and translates each feature individually such that it is in the given range on the training set, \n",
        "e.g. between zero and one\n",
        "'''\n",
        "from sklearn.preprocessing import MinMaxScaler\n",
        "scaling = MinMaxScaler()"
      ],
      "execution_count": 0,
      "outputs": []
    },
    {
      "cell_type": "code",
      "metadata": {
        "id": "ocX2-Jf3WPdL",
        "colab_type": "code",
        "colab": {
          "base_uri": "https://localhost:8080/",
          "height": 1000
        },
        "outputId": "6fc96600-84f7-4edf-8efd-59d55f8645ba"
      },
      "source": [
        "#Transforming the feature using normalization technique\n",
        "scaling.fit_transform(new_df[['Alcohol','Malic']])"
      ],
      "execution_count": 23,
      "outputs": [
        {
          "output_type": "execute_result",
          "data": {
            "text/plain": [
              "array([[0.57105263, 0.2055336 ],\n",
              "       [0.56052632, 0.3201581 ],\n",
              "       [0.87894737, 0.23913043],\n",
              "       [0.58157895, 0.36561265],\n",
              "       [0.83421053, 0.20158103],\n",
              "       [0.88421053, 0.22332016],\n",
              "       [0.79736842, 0.27865613],\n",
              "       [1.        , 0.17786561],\n",
              "       [0.74473684, 0.12055336],\n",
              "       [0.80789474, 0.28063241],\n",
              "       [0.81315789, 0.14624506],\n",
              "       [0.71578947, 0.19565217],\n",
              "       [0.97894737, 0.19565217],\n",
              "       [0.88157895, 0.22332016],\n",
              "       [0.68421053, 0.21146245],\n",
              "       [0.86052632, 0.23320158],\n",
              "       [0.73684211, 0.16403162],\n",
              "       [0.83157895, 0.16798419],\n",
              "       [0.68684211, 0.46640316],\n",
              "       [0.79736842, 0.17588933],\n",
              "       [0.5       , 0.60474308],\n",
              "       [0.70526316, 0.22134387],\n",
              "       [0.47894737, 0.16996047],\n",
              "       [0.65      , 0.21146245],\n",
              "       [0.53157895, 0.25889328],\n",
              "       [0.62105263, 0.20355731],\n",
              "       [0.59736842, 0.19367589],\n",
              "       [0.74736842, 0.22924901],\n",
              "       [0.78684211, 0.18577075],\n",
              "       [0.71052632, 0.15019763],\n",
              "       [0.67105263, 0.18181818],\n",
              "       [0.69736842, 0.21541502],\n",
              "       [0.71842105, 0.15612648],\n",
              "       [0.65263158, 0.20948617],\n",
              "       [0.64473684, 0.21146245],\n",
              "       [0.59210526, 0.17786561],\n",
              "       [0.53157895, 0.1798419 ],\n",
              "       [0.53684211, 0.15019763],\n",
              "       [0.83947368, 0.64229249],\n",
              "       [0.66578947, 0.1916996 ],\n",
              "       [0.62631579, 0.61264822],\n",
              "       [0.75      , 0.22727273],\n",
              "       [0.58157895, 0.64031621],\n",
              "       [0.53157895, 0.20355731],\n",
              "       [0.83684211, 0.65217391],\n",
              "       [0.88157895, 0.56324111],\n",
              "       [0.75526316, 0.18577075],\n",
              "       [0.80789474, 0.25296443],\n",
              "       [0.76578947, 0.19565217],\n",
              "       [0.53157895, 0.19565217],\n",
              "       [0.73684211, 0.1798419 ],\n",
              "       [0.73421053, 0.19960474],\n",
              "       [0.72105263, 0.22924901],\n",
              "       [0.71315789, 0.18379447],\n",
              "       [0.66578947, 0.19565217],\n",
              "       [0.83947368, 0.18972332],\n",
              "       [0.59473684, 0.243083  ],\n",
              "       [0.70789474, 0.13636364],\n",
              "       [0.35263158, 0.03952569],\n",
              "       [0.34210526, 0.07114625],\n",
              "       [0.42368421, 0.12252964],\n",
              "       [0.69473684, 0.10079051],\n",
              "       [0.35263158, 0.0770751 ],\n",
              "       [0.3       , 0.14031621],\n",
              "       [0.35263158, 0.09288538],\n",
              "       [0.54736842, 0.05335968],\n",
              "       [0.35263158, 0.08498024],\n",
              "       [0.60789474, 0.03952569],\n",
              "       [0.31052632, 0.08893281],\n",
              "       [0.33157895, 0.17193676],\n",
              "       [0.74473684, 0.15217391],\n",
              "       [0.64736842, 0.18181818],\n",
              "       [0.51578947, 0.18379447],\n",
              "       [0.24473684, 0.06916996],\n",
              "       [0.16578947, 0.22529644],\n",
              "       [0.52631579, 0.03162055],\n",
              "       [0.21315789, 0.42490119],\n",
              "       [0.34210526, 0.04940711],\n",
              "       [0.43947368, 0.61857708],\n",
              "       [0.25526316, 0.03557312],\n",
              "       [0.44473684, 0.21146245],\n",
              "       [0.27631579, 0.0770751 ],\n",
              "       [0.53157895, 0.61660079],\n",
              "       [0.21315789, 0.02964427],\n",
              "       [0.43157895, 0.04743083],\n",
              "       [0.29736842, 0.17193676],\n",
              "       [0.16315789, 0.18379447],\n",
              "       [0.16052632, 0.26086957],\n",
              "       [0.27631579, 0.11660079],\n",
              "       [0.27631579, 0.21541502],\n",
              "       [0.25526316, 0.15217391],\n",
              "       [0.43684211, 0.15612648],\n",
              "       [0.33157895, 0.41304348],\n",
              "       [0.15526316, 0.24703557],\n",
              "       [0.37894737, 0.1541502 ],\n",
              "       [0.20526316, 0.27272727],\n",
              "       [0.33157895, 0.13241107],\n",
              "       [0.35263158, 0.06521739],\n",
              "       [0.33157895, 0.48023715],\n",
              "       [0.27631579, 0.26482213],\n",
              "       [0.41315789, 0.11857708],\n",
              "       [0.34473684, 0.33794466],\n",
              "       [0.20789474, 0.19367589],\n",
              "       [0.38947368, 0.19565217],\n",
              "       [0.36578947, 0.35770751],\n",
              "       [0.32105263, 0.19565217],\n",
              "       [0.44473684, 0.19960474],\n",
              "       [0.31315789, 0.10869565],\n",
              "       [0.15263158, 0.12055336],\n",
              "       [0.11315789, 0.59288538],\n",
              "       [0.39210526, 0.33399209],\n",
              "       [0.19210526, 0.38339921],\n",
              "       [0.1       , 0.        ],\n",
              "       [0.27631579, 0.1284585 ],\n",
              "       [0.        , 0.15217391],\n",
              "       [0.20789474, 0.14426877],\n",
              "       [0.36578947, 0.17193676],\n",
              "       [0.45789474, 0.53162055],\n",
              "       [0.25526316, 0.53162055],\n",
              "       [0.11052632, 0.32806324],\n",
              "       [0.13947368, 0.25889328],\n",
              "       [0.36578947, 0.72924901],\n",
              "       [0.53157895, 1.        ],\n",
              "       [0.22105263, 0.7055336 ],\n",
              "       [0.27368421, 0.28063241],\n",
              "       [0.36842105, 0.15612648],\n",
              "       [0.2       , 0.27470356],\n",
              "       [0.35263158, 0.17588933],\n",
              "       [0.26578947, 0.70355731],\n",
              "       [0.48157895, 0.12055336],\n",
              "       [0.48684211, 0.44466403],\n",
              "       [0.46842105, 0.31027668],\n",
              "       [0.43947368, 0.55533597],\n",
              "       [0.38947368, 0.09881423],\n",
              "       [0.41315789, 0.33992095],\n",
              "       [0.32105263, 0.78656126],\n",
              "       [0.39473684, 0.94268775],\n",
              "       [0.64736842, 0.56324111],\n",
              "       [0.47631579, 0.43873518],\n",
              "       [0.5       , 0.40909091],\n",
              "       [0.61315789, 0.35968379],\n",
              "       [0.65526316, 0.48023715],\n",
              "       [0.68157895, 0.83201581],\n",
              "       [0.32105263, 0.62055336],\n",
              "       [0.56052632, 0.55928854],\n",
              "       [0.75      , 0.84980237],\n",
              "       [0.48421053, 0.76482213],\n",
              "       [0.60263158, 0.49407115],\n",
              "       [0.53947368, 0.62450593],\n",
              "       [0.65      , 0.47035573],\n",
              "       [0.46315789, 0.38142292],\n",
              "       [0.54736842, 0.22924901],\n",
              "       [0.57894737, 0.50592885],\n",
              "       [0.40789474, 0.10869565],\n",
              "       [0.56315789, 0.87944664],\n",
              "       [0.73947368, 0.66798419],\n",
              "       [0.37368421, 0.45256917],\n",
              "       [0.87105263, 0.18577075],\n",
              "       [0.64473684, 0.18379447],\n",
              "       [0.35      , 0.61067194],\n",
              "       [0.7       , 0.49802372],\n",
              "       [0.47894737, 0.5       ],\n",
              "       [0.50789474, 0.53557312],\n",
              "       [0.72368421, 0.39920949],\n",
              "       [0.71052632, 0.71541502],\n",
              "       [0.63684211, 0.58498024],\n",
              "       [0.47105263, 0.51976285],\n",
              "       [0.67105263, 0.36363636],\n",
              "       [0.62368421, 0.76284585],\n",
              "       [0.30789474, 0.45256917],\n",
              "       [0.45789474, 0.32608696],\n",
              "       [0.82368421, 0.34980237],\n",
              "       [0.70526316, 0.97035573],\n",
              "       [0.62368421, 0.62648221],\n",
              "       [0.58947368, 0.69960474],\n",
              "       [0.56315789, 0.36561265],\n",
              "       [0.81578947, 0.66403162]])"
            ]
          },
          "metadata": {
            "tags": []
          },
          "execution_count": 23
        }
      ]
    },
    {
      "cell_type": "markdown",
      "metadata": {
        "id": "8fc7xVK4ZLFz",
        "colab_type": "text"
      },
      "source": [
        "**Standardization - (Z Score Normalization)**\n",
        "\n",
        "---\n",
        "\n",
        "\n",
        "\n"
      ]
    },
    {
      "cell_type": "code",
      "metadata": {
        "id": "WZNRvcY1XhPP",
        "colab_type": "code",
        "colab": {}
      },
      "source": [
        "# Importing standardization library\n",
        "# StandardScaler makes the mean of the distribution 0. About 68% of the values will lie be between -1 and 1.\n",
        "from sklearn.preprocessing import StandardScaler\n",
        "scaling = StandardScaler()"
      ],
      "execution_count": 0,
      "outputs": []
    },
    {
      "cell_type": "code",
      "metadata": {
        "id": "BFdYfuaDX6UN",
        "colab_type": "code",
        "colab": {}
      },
      "source": [
        "new_df[['Alcohol','Malic']] = scaling.fit_transform(new_df[['Alcohol','Malic']])"
      ],
      "execution_count": 0,
      "outputs": []
    },
    {
      "cell_type": "code",
      "metadata": {
        "id": "zCMyvuYFZwnY",
        "colab_type": "code",
        "colab": {
          "base_uri": "https://localhost:8080/",
          "height": 204
        },
        "outputId": "f2012f25-d5a3-4f13-d0ff-4fa2ea8a7484"
      },
      "source": [
        "new_df.head()"
      ],
      "execution_count": 28,
      "outputs": [
        {
          "output_type": "execute_result",
          "data": {
            "text/html": [
              "<div>\n",
              "<style scoped>\n",
              "    .dataframe tbody tr th:only-of-type {\n",
              "        vertical-align: middle;\n",
              "    }\n",
              "\n",
              "    .dataframe tbody tr th {\n",
              "        vertical-align: top;\n",
              "    }\n",
              "\n",
              "    .dataframe thead th {\n",
              "        text-align: right;\n",
              "    }\n",
              "</style>\n",
              "<table border=\"1\" class=\"dataframe\">\n",
              "  <thead>\n",
              "    <tr style=\"text-align: right;\">\n",
              "      <th></th>\n",
              "      <th>Class</th>\n",
              "      <th>Alcohol</th>\n",
              "      <th>Malic</th>\n",
              "    </tr>\n",
              "  </thead>\n",
              "  <tbody>\n",
              "    <tr>\n",
              "      <th>0</th>\n",
              "      <td>1</td>\n",
              "      <td>0.255824</td>\n",
              "      <td>-0.501624</td>\n",
              "    </tr>\n",
              "    <tr>\n",
              "      <th>1</th>\n",
              "      <td>1</td>\n",
              "      <td>0.206229</td>\n",
              "      <td>0.018020</td>\n",
              "    </tr>\n",
              "    <tr>\n",
              "      <th>2</th>\n",
              "      <td>1</td>\n",
              "      <td>1.706501</td>\n",
              "      <td>-0.349315</td>\n",
              "    </tr>\n",
              "    <tr>\n",
              "      <th>3</th>\n",
              "      <td>1</td>\n",
              "      <td>0.305420</td>\n",
              "      <td>0.224086</td>\n",
              "    </tr>\n",
              "    <tr>\n",
              "      <th>4</th>\n",
              "      <td>1</td>\n",
              "      <td>1.495719</td>\n",
              "      <td>-0.519543</td>\n",
              "    </tr>\n",
              "  </tbody>\n",
              "</table>\n",
              "</div>"
            ],
            "text/plain": [
              "   Class   Alcohol     Malic\n",
              "0      1  0.255824 -0.501624\n",
              "1      1  0.206229  0.018020\n",
              "2      1  1.706501 -0.349315\n",
              "3      1  0.305420  0.224086\n",
              "4      1  1.495719 -0.519543"
            ]
          },
          "metadata": {
            "tags": []
          },
          "execution_count": 28
        }
      ]
    },
    {
      "cell_type": "markdown",
      "metadata": {
        "id": "44VCOAChbIHo",
        "colab_type": "text"
      },
      "source": [
        "<h1> When Feature Scaling should be performed ? </h1>\n",
        "<p>Scaling should be performed wherever the concept of Eucledian or man haten distance or the concept of gadient descent comes into the context.  </P>\n",
        "<h4>Some of the Algorithms where scaling must be performed : </h4>\n",
        "<ul>\n",
        "<li>KNN</li>\n",
        "<li>K means clustering</li>\n",
        "<li>Regression - not all the time needed</li>\n",
        "<li>Image processing etc</li>\n",
        "</ul>\n",
        "<h4>Some of the Algorithms where scaling is not needed: </h4>\n",
        "<ul>\n",
        "<li>Decsion Tree</li>\n",
        "<li>Random forest</li>\n",
        "</ul>"
      ]
    }
  ]
}