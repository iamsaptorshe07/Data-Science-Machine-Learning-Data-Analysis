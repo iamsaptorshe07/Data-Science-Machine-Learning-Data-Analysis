{
 "cells": [
  {
   "cell_type": "markdown",
   "metadata": {},
   "source": [
    "# Data Science Statistics Implemention ( Mean , Median , Mode )"
   ]
  },
  {
   "cell_type": "markdown",
   "metadata": {},
   "source": [
    "# Mean , Median, Histogram"
   ]
  },
  {
   "cell_type": "code",
   "execution_count": 1,
   "metadata": {},
   "outputs": [
    {
     "data": {
      "text/plain": [
       "25002.527345650076"
      ]
     },
     "execution_count": 1,
     "metadata": {},
     "output_type": "execute_result"
    }
   ],
   "source": [
    "import numpy as np\n",
    "incomes = np.random.normal(25000,500,20000)   # syntax(avrg_or_mean,standard_deviation, Total_no_Of_Object)\n",
    "np.mean(incomes) # To display the mean of the generated dataset"
   ]
  },
  {
   "cell_type": "code",
   "execution_count": 2,
   "metadata": {},
   "outputs": [
    {
     "data": {
      "text/plain": [
       "array([24807.40356439, 24444.34213811, 25065.42541956, ...,\n",
       "       24860.77961516, 24224.60258932, 25336.71737482])"
      ]
     },
     "execution_count": 2,
     "metadata": {},
     "output_type": "execute_result"
    }
   ],
   "source": [
    "incomes"
   ]
  },
  {
   "cell_type": "code",
   "execution_count": 3,
   "metadata": {},
   "outputs": [
    {
     "data": {
      "image/png": "[encoded data removed]",
      "text/plain": [
       "<Figure size 432x288 with 1 Axes>"
      ]
     },
     "metadata": {
      "needs_background": "light"
     },
     "output_type": "display_data"
    }
   ],
   "source": [
    "# Plotting a histogram to to show the spread of the data\n",
    "%matplotlib inline\n",
    "import matplotlib.pyplot as plt\n",
    "plt.hist(incomes,50)\n",
    "plt.show()"
   ]
  },
  {
   "cell_type": "code",
   "execution_count": 4,
   "metadata": {},
   "outputs": [
    {
     "data": {
      "text/plain": [
       "24998.46993197941"
      ]
     },
     "execution_count": 4,
     "metadata": {},
     "output_type": "execute_result"
    }
   ],
   "source": [
    "# To show the median\n",
    "np.median(incomes)"
   ]
  },
  {
   "cell_type": "code",
   "execution_count": 5,
   "metadata": {},
   "outputs": [],
   "source": [
    "# Adding abnormality (Outlier) in the dataset\n",
    "incomes = np.append(incomes,[2000000000])"
   ]
  },
  {
   "cell_type": "code",
   "execution_count": 6,
   "metadata": {},
   "outputs": [
    {
     "data": {
      "text/plain": [
       "124996.27753177349"
      ]
     },
     "execution_count": 6,
     "metadata": {},
     "output_type": "execute_result"
    }
   ],
   "source": [
    "# Outlier can change the whole meaning of the dataset , and produce improper mean\n",
    "np.mean(incomes) # It is showing that one anormal value can change the whole mean"
   ]
  },
  {
   "cell_type": "code",
   "execution_count": 7,
   "metadata": {},
   "outputs": [
    {
     "data": {
      "text/plain": [
       "24998.530673003865"
      ]
     },
     "execution_count": 7,
     "metadata": {},
     "output_type": "execute_result"
    }
   ],
   "source": [
    "# Although outlier is there but still it is giving more or less same insights of the dataset\n",
    "np.median(incomes) # it is showing that sometimes median gives better result compare to mean"
   ]
  },
  {
   "cell_type": "markdown",
   "metadata": {},
   "source": [
    "# Mode \n",
    "Calculating Mode is slightly different than calculating mean and median\n",
    "To Calculate mode we should import stats method of scipy package"
   ]
  },
  {
   "cell_type": "code",
   "execution_count": 8,
   "metadata": {},
   "outputs": [],
   "source": [
    "# Importing the data set\n",
    "from scipy import stats"
   ]
  },
  {
   "cell_type": "code",
   "execution_count": 9,
   "metadata": {},
   "outputs": [
    {
     "data": {
      "text/plain": [
       "ModeResult(mode=array([22869.89186007]), count=array([1]))"
      ]
     },
     "execution_count": 9,
     "metadata": {},
     "output_type": "execute_result"
    }
   ],
   "source": [
    "stats.mode(incomes) # The data set is not appropriate for calculating mode"
   ]
  },
  {
   "cell_type": "code",
   "execution_count": 10,
   "metadata": {},
   "outputs": [],
   "source": [
    "# Generating fake age data set\n",
    "ages = np.random.randint(10,18,30)"
   ]
  },
  {
   "cell_type": "code",
   "execution_count": 11,
   "metadata": {},
   "outputs": [
    {
     "data": {
      "text/plain": [
       "array([14, 13, 15, 15, 13, 15, 11, 16, 15, 10, 14, 12, 11, 12, 16, 16, 15,\n",
       "       16, 16, 11, 15, 17, 13, 12, 10, 12, 10, 14, 11, 12])"
      ]
     },
     "execution_count": 11,
     "metadata": {},
     "output_type": "execute_result"
    }
   ],
   "source": [
    "ages"
   ]
  },
  {
   "cell_type": "code",
   "execution_count": 12,
   "metadata": {},
   "outputs": [
    {
     "data": {
      "text/plain": [
       "ModeResult(mode=array([15]), count=array([6]))"
      ]
     },
     "execution_count": 12,
     "metadata": {},
     "output_type": "execute_result"
    }
   ],
   "source": [
    "stats.mode(ages) # Calculating mode"
   ]
  },
  {
   "cell_type": "code",
   "execution_count": 13,
   "metadata": {},
   "outputs": [
    {
     "data": {
      "text/plain": [
       "13.4"
      ]
     },
     "execution_count": 13,
     "metadata": {},
     "output_type": "execute_result"
    }
   ],
   "source": [
    "np.mean(ages)"
   ]
  },
  {
   "cell_type": "code",
   "execution_count": 14,
   "metadata": {},
   "outputs": [
    {
     "data": {
      "text/plain": [
       "13.5"
      ]
     },
     "execution_count": 14,
     "metadata": {},
     "output_type": "execute_result"
    }
   ],
   "source": [
    "np.median(ages)"
   ]
  },
  {
   "cell_type": "markdown",
   "metadata": {},
   "source": [
    "# Standard Deviation & Variance"
   ]
  },
  {
   "cell_type": "code",
   "execution_count": 35,
   "metadata": {},
   "outputs": [
    {
     "data": {
      "image/png": "[encoded data removed]",
      "text/plain": [
       "<Figure size 432x288 with 1 Axes>"
      ]
     },
     "metadata": {
      "needs_background": "light"
     },
     "output_type": "display_data"
    },
    {
     "name": "stdout",
     "output_type": "stream",
     "text": [
      "Mean of this data set :  99.684052525628\n"
     ]
    }
   ],
   "source": [
    "data = np.random.normal(100.0,20.0,1000)\n",
    "plt.hist(data,50)\n",
    "plt.show()\n",
    "print(\"Mean of this data set : \",np.mean(data))"
   ]
  },
  {
   "cell_type": "code",
   "execution_count": 28,
   "metadata": {},
   "outputs": [
    {
     "name": "stdout",
     "output_type": "stream",
     "text": [
      "Standard Deviation :  19.932242078711937\n"
     ]
    }
   ],
   "source": [
    "# Getting the standard deviation\n",
    "print(\"Standard Deviation : \", np.std(data))"
   ]
  },
  {
   "cell_type": "code",
   "execution_count": 29,
   "metadata": {},
   "outputs": [
    {
     "name": "stdout",
     "output_type": "stream",
     "text": [
      "Variance :  397.29427428437475\n"
     ]
    }
   ],
   "source": [
    "# Calculating Variance \n",
    "print(\"Variance : \",np.var(data))"
   ]
  },
  {
   "cell_type": "code",
   "execution_count": 31,
   "metadata": {},
   "outputs": [
    {
     "data": {
      "text/plain": [
       "19.932242078711937"
      ]
     },
     "execution_count": 31,
     "metadata": {},
     "output_type": "execute_result"
    }
   ],
   "source": [
    "# std = square root of variance\n",
    "import math as m\n",
    "m.sqrt(np.var(data))"
   ]
  },
  {
   "cell_type": "markdown",
   "metadata": {},
   "source": [
    "# Example of Data Distribution"
   ]
  },
  {
   "cell_type": "markdown",
   "metadata": {},
   "source": [
    "# Uniform Distribution"
   ]
  },
  {
   "cell_type": "code",
   "execution_count": 43,
   "metadata": {},
   "outputs": [
    {
     "data": {
      "image/png": "[encoded data removed]",
      "text/plain": [
       "<Figure size 432x288 with 1 Axes>"
      ]
     },
     "metadata": {
      "needs_background": "light"
     },
     "output_type": "display_data"
    }
   ],
   "source": [
    "data = np.random.uniform(-10,10,10000) #(low,high,n)\n",
    "plt.hist(data,50)\n",
    "plt.show()"
   ]
  },
  {
   "cell_type": "markdown",
   "metadata": {},
   "source": [
    "# Normal / Gaussian Distribution\n",
    "visualizing the probability density function"
   ]
  },
  {
   "cell_type": "code",
   "execution_count": 63,
   "metadata": {},
   "outputs": [
    {
     "data": {
      "text/plain": [
       "array([-3.0000000e+00, -2.9500000e+00, -2.9000000e+00, -2.8500000e+00,\n",
       "       -2.8000000e+00, -2.7500000e+00, -2.7000000e+00, -2.6500000e+00,\n",
       "       -2.6000000e+00, -2.5500000e+00, -2.5000000e+00, -2.4500000e+00,\n",
       "       -2.4000000e+00, -2.3500000e+00, -2.3000000e+00, -2.2500000e+00,\n",
       "       -2.2000000e+00, -2.1500000e+00, -2.1000000e+00, -2.0500000e+00,\n",
       "       -2.0000000e+00, -1.9500000e+00, -1.9000000e+00, -1.8500000e+00,\n",
       "       -1.8000000e+00, -1.7500000e+00, -1.7000000e+00, -1.6500000e+00,\n",
       "       -1.6000000e+00, -1.5500000e+00, -1.5000000e+00, -1.4500000e+00,\n",
       "       -1.4000000e+00, -1.3500000e+00, -1.3000000e+00, -1.2500000e+00,\n",
       "       -1.2000000e+00, -1.1500000e+00, -1.1000000e+00, -1.0500000e+00,\n",
       "       -1.0000000e+00, -9.5000000e-01, -9.0000000e-01, -8.5000000e-01,\n",
       "       -8.0000000e-01, -7.5000000e-01, -7.0000000e-01, -6.5000000e-01,\n",
       "       -6.0000000e-01, -5.5000000e-01, -5.0000000e-01, -4.5000000e-01,\n",
       "       -4.0000000e-01, -3.5000000e-01, -3.0000000e-01, -2.5000000e-01,\n",
       "       -2.0000000e-01, -1.5000000e-01, -1.0000000e-01, -5.0000000e-02,\n",
       "       -1.0658141e-14,  5.0000000e-02,  1.0000000e-01,  1.5000000e-01,\n",
       "        2.0000000e-01,  2.5000000e-01,  3.0000000e-01,  3.5000000e-01,\n",
       "        4.0000000e-01,  4.5000000e-01,  5.0000000e-01,  5.5000000e-01,\n",
       "        6.0000000e-01,  6.5000000e-01,  7.0000000e-01,  7.5000000e-01,\n",
       "        8.0000000e-01,  8.5000000e-01,  9.0000000e-01,  9.5000000e-01,\n",
       "        1.0000000e+00,  1.0500000e+00,  1.1000000e+00,  1.1500000e+00,\n",
       "        1.2000000e+00,  1.2500000e+00,  1.3000000e+00,  1.3500000e+00,\n",
       "        1.4000000e+00,  1.4500000e+00,  1.5000000e+00,  1.5500000e+00,\n",
       "        1.6000000e+00,  1.6500000e+00,  1.7000000e+00,  1.7500000e+00,\n",
       "        1.8000000e+00,  1.8500000e+00,  1.9000000e+00,  1.9500000e+00,\n",
       "        2.0000000e+00,  2.0500000e+00,  2.1000000e+00,  2.1500000e+00,\n",
       "        2.2000000e+00,  2.2500000e+00,  2.3000000e+00,  2.3500000e+00,\n",
       "        2.4000000e+00,  2.4500000e+00,  2.5000000e+00,  2.5500000e+00,\n",
       "        2.6000000e+00,  2.6500000e+00,  2.7000000e+00,  2.7500000e+00,\n",
       "        2.8000000e+00,  2.8500000e+00,  2.9000000e+00,  2.9500000e+00])"
      ]
     },
     "execution_count": 63,
     "metadata": {},
     "output_type": "execute_result"
    }
   ],
   "source": [
    "x = np.arange(-3,3,0.05) # (start,stop,step)\n",
    "x"
   ]
  },
  {
   "cell_type": "code",
   "execution_count": 64,
   "metadata": {},
   "outputs": [
    {
     "name": "stdout",
     "output_type": "stream",
     "text": [
      "Plotting the PDF / Gaussian distribution\n"
     ]
    },
    {
     "data": {
      "text/plain": [
       "[<matplotlib.lines.Line2D at 0xd3c54e3710>]"
      ]
     },
     "execution_count": 64,
     "metadata": {},
     "output_type": "execute_result"
    },
    {
     "data": {
      "image/png": "[encoded data removed]",
      "text/plain": [
       "<Figure size 432x288 with 1 Axes>"
      ]
     },
     "metadata": {
      "needs_background": "light"
     },
     "output_type": "display_data"
    }
   ],
   "source": [
    "print(\"Plotting the PDF / Gaussian distribution\")\n",
    "%matplotlib inline\n",
    "plt.plot(x,stats.norm.pdf(x)) #pdf stands for probability density function"
   ]
  },
  {
   "cell_type": "markdown",
   "metadata": {},
   "source": [
    "# Exponential PDF / Power Law"
   ]
  },
  {
   "cell_type": "code",
   "execution_count": 69,
   "metadata": {},
   "outputs": [
    {
     "name": "stdout",
     "output_type": "stream",
     "text": [
      "[0.000e+00 1.000e-03 2.000e-03 ... 9.997e+00 9.998e+00 9.999e+00]\n"
     ]
    },
    {
     "data": {
      "text/plain": [
       "[<matplotlib.lines.Line2D at 0xd3c409b0b8>]"
      ]
     },
     "execution_count": 69,
     "metadata": {},
     "output_type": "execute_result"
    },
    {
     "data": {
      "image/png": "[encoded data removed]",
      "text/plain": [
       "<Figure size 432x288 with 1 Axes>"
      ]
     },
     "metadata": {
      "needs_background": "light"
     },
     "output_type": "display_data"
    }
   ],
   "source": [
    "data = np.arange(0,10,0.001)\n",
    "print(data)\n",
    "plt.plot(data,stats.expon.pdf(data))"
   ]
  },
  {
   "cell_type": "markdown",
   "metadata": {},
   "source": [
    "# Poission Probability Mass Function\n",
    "It is a special kind of Probability Mass function , it is mainly calculated for a specific or given time range. Suppose there is a dataset where lowest possible value is 400, highest = 600 and averge is 500 so it return what is the probailty of occurig odds means other numbers in the range of owest to highest in a specific time"
   ]
  },
  {
   "cell_type": "code",
   "execution_count": 75,
   "metadata": {},
   "outputs": [
    {
     "data": {
      "text/plain": [
       "[<matplotlib.lines.Line2D at 0xd3c553e908>]"
      ]
     },
     "execution_count": 75,
     "metadata": {},
     "output_type": "execute_result"
    },
    {
     "data": {
      "image/png": "[encoded data removed]",
      "text/plain": [
       "<Figure size 432x288 with 1 Axes>"
      ]
     },
     "metadata": {
      "needs_background": "light"
     },
     "output_type": "display_data"
    }
   ],
   "source": [
    "# Plotting PMF\n",
    "mu = 500 # Average \n",
    "data = np.arange(400,600,0.5)\n",
    "plt.plot(data,stats.poisson.pmf(data,mu))  # pmf -- > Probability Mass Function"
   ]
  }
 ],
 "metadata": {
  "kernelspec": {
   "display_name": "Python 3",
   "language": "python",
   "name": "python3"
  },
  "language_info": {
   "codemirror_mode": {
    "name": "ipython",
    "version": 3
   },
   "file_extension": ".py",
   "mimetype": "text/x-python",
   "name": "python",
   "nbconvert_exporter": "python",
   "pygments_lexer": "ipython3",
   "version": "3.6.0"
  }
 },
 "nbformat": 4,
 "nbformat_minor": 2
}
